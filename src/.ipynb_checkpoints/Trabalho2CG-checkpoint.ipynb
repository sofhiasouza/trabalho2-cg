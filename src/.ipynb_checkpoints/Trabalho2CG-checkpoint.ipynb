{
 "cells": [
  {
   "cell_type": "markdown",
   "id": "d93b1ad2-db3e-4105-8b3f-e080d7e15b4d",
   "metadata": {},
   "source": [
    "# Trabalho 2 - Computação Gráfica\n",
    "### Alunos:\n",
    "* Pedro Augusto Ribeiro Gomes - 11819125\n",
    "* Sofhia de Souza Gonçalves - 11735035\n",
    "\n"
   ]
  },
  {
   "cell_type": "markdown",
   "id": "c06b0536-fd0b-4ce6-b1b3-6a99c9914dd3",
   "metadata": {},
   "source": [
    "### Primeiro, importamos as bibliotecas que serão utilizadas:\n"
   ]
  },
  {
   "cell_type": "code",
   "execution_count": 100,
   "id": "8cd2020b-38be-404b-9fe4-93af9a9937cb",
   "metadata": {},
   "outputs": [],
   "source": [
    "import glfw\n",
    "from OpenGL.GL import *\n",
    "import OpenGL.GL.shaders\n",
    "import numpy as np\n",
    "import glm\n",
    "import math\n",
    "from PIL import Image"
   ]
  },
  {
   "cell_type": "markdown",
   "id": "90ddea9e-c993-46f1-86fe-5b724ea2a840",
   "metadata": {},
   "source": [
    "### Inicializando a janela"
   ]
  },
  {
   "cell_type": "code",
   "execution_count": 101,
   "id": "3cd5af45-e6d5-4c39-8ef6-aebbf7f6776b",
   "metadata": {},
   "outputs": [],
   "source": [
    "glfw.init()\n",
    "glfw.window_hint(glfw.VISIBLE, glfw.FALSE);\n",
    "altura = 1600\n",
    "largura = 1200\n",
    "window = glfw.create_window(largura, altura, \"Malhas e Texturas\", None, None)\n",
    "glfw.make_context_current(window)"
   ]
  },
  {
   "cell_type": "markdown",
   "id": "c8897e7e-8d54-4594-a325-9ce9a949c7db",
   "metadata": {},
   "source": [
    "### GLSL para Vertex Shader\n",
    "\n",
    "No código abaixo, estamos fazendo o seguinte:\n",
    "\n",
    "* Definindo uma variável chamada position do tipo vec3.\n",
    "* Definindo matrizes Model, View e Projection que acumulam transformações geométricas 3D e permitem navegação no cenário.\n",
    "* void main() é o ponto de entrada do nosso programa (função principal).\n",
    "* gl_Position é uma variável especial do GLSL. Variáveis que começam com 'gl_' são desse tipo. Nesse caso, determina a posição de um vértice. Observe que todo vértice tem 4 coordenadas, por isso combinamos nossa variável vec2 com uma variável vec4. Além disso, modificamos nosso vetor com base nas transformações Model, View e Projection."
   ]
  },
  {
   "cell_type": "code",
   "execution_count": 102,
   "id": "d55b6337-d27b-4559-a298-5856c148e679",
   "metadata": {},
   "outputs": [],
   "source": [
    "vertex_code = \"\"\"\n",
    "        attribute vec3 position;\n",
    "        attribute vec2 texture_coord;\n",
    "        attribute vec3 normals;\n",
    "        \n",
    "       \n",
    "        varying vec2 out_texture;\n",
    "        varying vec3 out_fragPos;\n",
    "        varying vec3 out_normal;\n",
    "                \n",
    "        uniform mat4 model;\n",
    "        uniform mat4 view;\n",
    "        uniform mat4 projection;        \n",
    "        \n",
    "        void main(){\n",
    "            gl_Position = projection * view * model * vec4(position,1.0);\n",
    "            out_texture = vec2(texture_coord);\n",
    "            out_fragPos = vec3(  model * vec4(position, 1.0));\n",
    "            out_normal = vec3( model *vec4(normals, 1.0));            \n",
    "        }\n",
    "        \"\"\""
   ]
  },
  {
   "cell_type": "markdown",
   "id": "0098518e-7032-4caa-ac42-b7b44ac04d7f",
   "metadata": {},
   "source": [
    "### Possibilitando modificar a cor.\n",
    "\n",
    "Nos exemplos anteriores, a variável gl_FragColor estava definida de forma fixa (com cor R=0, G=0, B=0).\n",
    "\n",
    "Agora, nós vamos criar uma variável do tipo \"uniform\", de quatro posições (vec4), para receber o dado de cor do nosso programa rodando em CPU."
   ]
  },
  {
   "cell_type": "code",
   "execution_count": 103,
   "id": "f4cad871-7f42-4012-b857-4d199696c39f",
   "metadata": {},
   "outputs": [],
   "source": [
    "fragment_code = \"\"\"\n",
    "        uniform vec3 lightPosInside; // define coordenadas de posicao da luz interna\n",
    "        uniform vec3 lightPosOutside; // define coordenadas de posicao da luz externa\n",
    "        uniform int inside; //flag que indica se a luz é a interna ou a externa\n",
    "\n",
    "        // parametros da iluminacao ambiente e difusa\n",
    "        uniform float ka; // coeficiente de reflexao ambiente\n",
    "        uniform float kd; // coeficiente de reflexao difusa\n",
    "        \n",
    "        // parametros da iluminacao especular\n",
    "        uniform vec3 viewPos; // define coordenadas com a posicao da camera/observador\n",
    "        uniform float ks; // coeficiente de reflexao especular\n",
    "        uniform float ns; // expoente de reflexao especular\n",
    "        \n",
    "        // parametro com a cor da(s) fonte(s) de iluminacao\n",
    "        vec3 lightColorInside = vec3(1.0, 0.95, 0.78);\n",
    "        vec3 lightColorOutside = vec3(1, 0.55, 0.15);\n",
    "        vec3 lightColorAmbient = vec3(1.0, 0.95, 0.78);\n",
    "\n",
    "        // parametros recebidos do vertex shader\n",
    "        varying vec2 out_texture; // recebido do vertex shader\n",
    "        varying vec3 out_normal; // recebido do vertex shader\n",
    "        varying vec3 out_fragPos; // recebido do vertex shader\n",
    "        uniform sampler2D samplerTexture;\n",
    "\n",
    "        vec3 diffuseInside = vec3(0.0);\n",
    "        vec3 diffuseOutside = vec3(0.0);\n",
    "        vec3 specularInside = vec3(0.0);\n",
    "        vec3 specularOutside = vec3(0.0);\n",
    "        \n",
    "        void main(){ \n",
    "\n",
    "            //Luz Externa \n",
    "            if(inside == 0){ \n",
    "                \n",
    "                // calculando reflexao difusa\n",
    "                vec3 normOutside = normalize(out_normal); // normaliza vetores perpendiculares\n",
    "                vec3 lightDirOutside = normalize(lightPosOutside - out_fragPos); // direcao da luz\n",
    "                float diffOutside = max(dot(normOutside, lightDirOutside), 0.0); // verifica limite angular (entre 0 e 90)\n",
    "                diffuseOutside = kd * diffOutside * lightColorOutside; // iluminacao difusa\n",
    "                \n",
    "                // calculando reflexao especular\n",
    "                vec3 viewDirOutside = normalize(viewPos - out_fragPos); // direcao do observador/camera\n",
    "                vec3 reflectDirOutside = reflect(-lightDirOutside, normOutside); // direcao da reflexao\n",
    "                float specOutside = pow(max(dot(viewDirOutside, reflectDirOutside), 0.0), ns);\n",
    "                specularOutside = ks * specOutside * lightColorOutside;    \n",
    "\n",
    "            }           \n",
    "\n",
    "            // Luz Interna\n",
    "            if(inside == 1){\n",
    "                \n",
    "                // calculando reflexao difusa\n",
    "                vec3 normInside = normalize(out_normal); // normaliza vetores perpendiculares\n",
    "                vec3 lightDirInside = normalize(lightPosInside - out_fragPos); // direcao da luz\n",
    "                float diffInside = max(dot(normInside, lightDirInside), 0.0); // verifica limite angular (entre 0 e 90)\n",
    "                diffuseInside = kd * diffInside * lightColorInside; // iluminacao difusa\n",
    "                \n",
    "                // calculando reflexao especular\n",
    "                vec3 viewDirInside = normalize(viewPos - out_fragPos); // direcao do observador/camera\n",
    "                vec3 reflectDirInside = reflect(-lightDirInside, normInside); // direcao da reflexao\n",
    "                float specInside = pow(max(dot(viewDirInside, reflectDirInside), 0.0), ns);\n",
    "                specularInside = ks * specInside * lightColorInside;\n",
    "\n",
    "                lightColorAmbient = vec3(1, 0.55, 0.15);    \n",
    "            }\n",
    "\n",
    "            // calculando reflexao ambiente\n",
    "            vec3 ambient = ka * lightColorAmbient; \n",
    "            \n",
    "            // aplicando o modelo de iluminacao\n",
    "            vec4 texture = texture2D(samplerTexture, out_texture);\n",
    "            vec4 result = vec4((ambient + diffuseOutside + diffuseInside + specularOutside + specularInside),1.0) * texture;\n",
    "            gl_FragColor = result;\n",
    "        }\n",
    "        \"\"\""
   ]
  },
  {
   "cell_type": "markdown",
   "id": "3c0f2088-623a-426c-95e5-2effc2622ea4",
   "metadata": {},
   "source": [
    "### Requisitando slot para a GPU para nossos programas Vertex e Fragment Shaders"
   ]
  },
  {
   "cell_type": "code",
   "execution_count": 104,
   "id": "b4f88a86-0121-4f23-b7d8-0d3475209709",
   "metadata": {},
   "outputs": [],
   "source": [
    "# Request a program and shader slots from GPU\n",
    "program  = glCreateProgram()\n",
    "vertex   = glCreateShader(GL_VERTEX_SHADER)\n",
    "fragment = glCreateShader(GL_FRAGMENT_SHADER)\n"
   ]
  },
  {
   "cell_type": "markdown",
   "id": "611d5be2-aea1-4482-8456-7a96d8efa7cc",
   "metadata": {},
   "source": [
    "### Associando nosso código-fonte aos slots solicitados"
   ]
  },
  {
   "cell_type": "code",
   "execution_count": 105,
   "id": "fd076214-ca96-4218-a74d-5cd003d20afa",
   "metadata": {},
   "outputs": [],
   "source": [
    "# Set shaders source\n",
    "glShaderSource(vertex, vertex_code)\n",
    "glShaderSource(fragment, fragment_code)"
   ]
  },
  {
   "cell_type": "markdown",
   "id": "3218bbd3-59c0-4343-9215-e2b834f8b8d4",
   "metadata": {},
   "source": [
    "### Compilando o Vertex Shader\n",
    "\n",
    "Se há algum erro em nosso programa Vertex Shader, nosso app para por aqui."
   ]
  },
  {
   "cell_type": "code",
   "execution_count": 106,
   "id": "b6b939fc-d3bf-495b-8169-489a5e6f9bdf",
   "metadata": {},
   "outputs": [],
   "source": [
    "# Compile shaders\n",
    "glCompileShader(vertex)\n",
    "if not glGetShaderiv(vertex, GL_COMPILE_STATUS):\n",
    "    error = glGetShaderInfoLog(vertex).decode()\n",
    "    print(error)\n",
    "    raise RuntimeError(\"Erro de compilacao do Vertex Shader\")"
   ]
  },
  {
   "cell_type": "markdown",
   "id": "04ef04d7-68d4-4357-835c-db6d8cd7097a",
   "metadata": {},
   "source": [
    "### Compilando o Fragment Shader\n",
    "\n",
    "Se há algum erro em nosso programa Fragment Shader, nosso app para por aqui."
   ]
  },
  {
   "cell_type": "code",
   "execution_count": 107,
   "id": "ad449d59-7ca6-4c64-b794-651f702b13fd",
   "metadata": {},
   "outputs": [],
   "source": [
    "glCompileShader(fragment)\n",
    "if not glGetShaderiv(fragment, GL_COMPILE_STATUS):\n",
    "    error = glGetShaderInfoLog(fragment).decode()\n",
    "    print(error)\n",
    "    raise RuntimeError(\"Erro de compilacao do Fragment Shader\")"
   ]
  },
  {
   "cell_type": "markdown",
   "id": "e97743f0-1736-4dee-99b2-8163dea8f7c0",
   "metadata": {},
   "source": [
    "### Associando os programas compilado ao programa principal"
   ]
  },
  {
   "cell_type": "code",
   "execution_count": 108,
   "id": "bc01aab3-a7d8-47e2-8f1c-6274f8913b07",
   "metadata": {},
   "outputs": [],
   "source": [
    "# Attach shader objects to the program\n",
    "glAttachShader(program, vertex)\n",
    "glAttachShader(program, fragment)\n"
   ]
  },
  {
   "cell_type": "markdown",
   "id": "7e3bf080-1dd0-495b-b005-51f9ef4e2a28",
   "metadata": {},
   "source": [
    "### Linkagem do programa"
   ]
  },
  {
   "cell_type": "code",
   "execution_count": 109,
   "id": "b99212c4-0c6f-406b-90f8-92bdbab69aff",
   "metadata": {},
   "outputs": [],
   "source": [
    "# Build program\n",
    "glLinkProgram(program)\n",
    "if not glGetProgramiv(program, GL_LINK_STATUS):\n",
    "    print(glGetProgramInfoLog(program))\n",
    "    raise RuntimeError('Linking error')\n",
    "    \n",
    "# Make program the default program\n",
    "glUseProgram(program)"
   ]
  },
  {
   "cell_type": "markdown",
   "id": "f0dda455-007c-4249-8f6f-3cd9a97c985f",
   "metadata": {},
   "source": [
    "### Preparando dados para enviar a GPU\n",
    "\n",
    "Nesse momento, nós compilamos nossos Vertex e Program Shaders para que a GPU possa processá-los.\n",
    "\n",
    "Por outro lado, as informações de vértices geralmente estão na CPU e devem ser transmitidas para a GPU.\n"
   ]
  },
  {
   "cell_type": "markdown",
   "id": "5703b24a-bb91-4350-b491-9cd9f0491df8",
   "metadata": {},
   "source": [
    "### Carregando Modelos (vértices e texturas) a partir de Arquivos\n",
    "\n",
    "A função abaixo carrega modelos a partir de arquivos no formato WaveFront.\n"
   ]
  },
  {
   "cell_type": "code",
   "execution_count": 110,
   "id": "0337b309-5a6a-4121-bf2b-93d3821286c3",
   "metadata": {},
   "outputs": [],
   "source": [
    "def load_model_from_file(filename):\n",
    "    \"\"\"Loads a Wavefront OBJ file. \"\"\"\n",
    "    objects = {}\n",
    "    vertices = []\n",
    "    normals = []\n",
    "    texture_coords = []\n",
    "    faces = []\n",
    "\n",
    "    material = None\n",
    "\n",
    "    # abre o arquivo obj para leitura\n",
    "    for line in open(filename, \"r\"): ## para cada linha do arquivo .obj\n",
    "        if line.startswith('#'): continue ## ignora comentarios\n",
    "        values = line.split() # quebra a linha por espaço\n",
    "        if not values: continue\n",
    "\n",
    "\n",
    "        ### recuperando vertices\n",
    "        if values[0] == 'v':\n",
    "            vertices.append(values[1:4])\n",
    "\n",
    "        ### recuperando vertices\n",
    "        if values[0] == 'vn':\n",
    "            normals.append(values[1:4])\n",
    "\n",
    "        ### recuperando coordenadas de textura\n",
    "        elif values[0] == 'vt':\n",
    "            texture_coords.append(values[1:3])\n",
    "\n",
    "        ### recuperando faces \n",
    "        elif values[0] in ('usemtl', 'usemat'):\n",
    "            material = values[1]\n",
    "        elif values[0] == 'f':\n",
    "            face = []\n",
    "            face_texture = []\n",
    "            face_normals = []\n",
    "            for v in values[1:]:\n",
    "                w = v.split('/')\n",
    "                face.append(int(w[0]))\n",
    "                if(len(w) == 3):\n",
    "                    face_normals.append(int(w[2]))\n",
    "                if len(w) >= 2 and len(w[1]) > 0:\n",
    "                    face_texture.append(int(w[1]))\n",
    "                else:\n",
    "                    face_texture.append(0)\n",
    "\n",
    "            faces.append((face, face_texture, face_normals, material))\n",
    "\n",
    "    model = {}\n",
    "    model['vertices'] = vertices\n",
    "    model['texture'] = texture_coords\n",
    "    model['faces'] = faces\n",
    "    model['normals'] = normals\n",
    "\n",
    "    return model"
   ]
  },
  {
   "cell_type": "code",
   "execution_count": 111,
   "id": "cb22dbc3-3389-4895-9618-7ffd0e09155a",
   "metadata": {},
   "outputs": [],
   "source": [
    "glHint(GL_LINE_SMOOTH_HINT, GL_DONT_CARE)\n",
    "glEnable(GL_TEXTURE_2D)\n",
    "qtd_texturas = 10\n",
    "textures = glGenTextures(qtd_texturas)\n",
    "\n",
    "def load_texture_from_file(texture_id, img_textura):\n",
    "    glBindTexture(GL_TEXTURE_2D, texture_id)\n",
    "    glTexParameteri(GL_TEXTURE_2D, GL_TEXTURE_WRAP_S, GL_REPEAT)\n",
    "    glTexParameteri(GL_TEXTURE_2D, GL_TEXTURE_WRAP_T, GL_REPEAT)\n",
    "    glTexParameteri(GL_TEXTURE_2D, GL_TEXTURE_MIN_FILTER, GL_LINEAR)\n",
    "    glTexParameteri(GL_TEXTURE_2D, GL_TEXTURE_MAG_FILTER, GL_LINEAR)\n",
    "    img = Image.open(img_textura)\n",
    "    img_width = img.size[0]\n",
    "    img_height = img.size[1]\n",
    "    image_data = img.tobytes(\"raw\", \"RGB\", 0, -1)\n",
    "    glTexImage2D(GL_TEXTURE_2D, 0, GL_RGB, img_width, img_height, 0, GL_RGB, GL_UNSIGNED_BYTE, image_data)"
   ]
  },
  {
   "cell_type": "markdown",
   "id": "3cc61b8f-64d3-44c7-b9e8-113f5ec422de",
   "metadata": {},
   "source": [
    "### A lista abaixo armazena todos os vertices carregados dos arquivos"
   ]
  },
  {
   "cell_type": "code",
   "execution_count": 112,
   "id": "6ff18113-5f3c-4885-ac25-babf4f7820c1",
   "metadata": {},
   "outputs": [],
   "source": [
    "vertices_list = []    \n",
    "normals_list = []    \n",
    "textures_coord_list = []"
   ]
  },
  {
   "cell_type": "markdown",
   "id": "41a4a2c2-8f6b-4f75-ba81-648aebf5fdca",
   "metadata": {},
   "source": [
    "### Carregamos cada modelo e definimos funções para desenhá-los"
   ]
  },
  {
   "cell_type": "code",
   "execution_count": 113,
   "id": "a1b226d8-d970-4a0e-815c-9f69823497b2",
   "metadata": {
    "scrolled": true
   },
   "outputs": [
    {
     "name": "stdout",
     "output_type": "stream",
     "text": [
      "Processando modelo ground_stone.obj. Vertice inicial: 0\n",
      "Processando modelo ground_stone.obj. Vertice final: 12\n"
     ]
    }
   ],
   "source": [
    "modelo = load_model_from_file('../assets/ground_stone/ground1.obj')\n",
    "ground1_start = len(vertices_list)\n",
    "### inserindo vertices do modelo no vetor de vertices\n",
    "print('Processando modelo ground_stone.obj. Vertice inicial:',len(vertices_list))\n",
    "for face in modelo['faces']:\n",
    "    for vertice_id in face[0]:\n",
    "        vertices_list.append( modelo['vertices'][vertice_id-1] )\n",
    "    for texture_id in face[1]:\n",
    "        textures_coord_list.append( modelo['texture'][texture_id-1] )\n",
    "print('Processando modelo ground_stone.obj. Vertice final:',len(vertices_list))\n",
    "\n",
    "ground1_size = len(vertices_list) - ground1_start\n",
    "\n",
    "### carregando textura equivalente e definindo um id (buffer): \n",
    "load_texture_from_file(1,'../assets/ground_stone/stone.jpg')"
   ]
  },
  {
   "cell_type": "code",
   "execution_count": 114,
   "id": "7da16f81-7422-41af-abfe-5b7654cbf293",
   "metadata": {},
   "outputs": [
    {
     "name": "stdout",
     "output_type": "stream",
     "text": [
      "Processando modelo sky.obj. Vertice inicial: 12\n",
      "Processando modelo sky.obj. Vertice final: 2892\n"
     ]
    }
   ],
   "source": [
    "## loading sky\n",
    "modelo = load_model_from_file('../assets/sky/sky.obj')\n",
    "sky_start = len(vertices_list)\n",
    "### inserindo vertices do modelo no vetor de vertices\n",
    "print('Processando modelo sky.obj. Vertice inicial:',len(vertices_list))\n",
    "for face in modelo['faces']:\n",
    "    for vertice_id in face[0]:\n",
    "        vertices_list.append( modelo['vertices'][vertice_id-1] )\n",
    "    for texture_id in face[1]:\n",
    "        textures_coord_list.append( modelo['texture'][texture_id-1] )\n",
    "    for normal_id in face[2]:\n",
    "        normals_list.append( modelo['normals'][normal_id-1] )\n",
    "print('Processando modelo sky.obj. Vertice final:',len(vertices_list))\n",
    "\n",
    "sky_size = len(vertices_list) - sky_start\n",
    "\n",
    "### carregando textura equivalente e definindo um id (buffer): \n",
    "load_texture_from_file(2,'../assets/sky/animecloud.png')"
   ]
  },
  {
   "cell_type": "code",
   "execution_count": 115,
   "id": "ee69636a-a72a-4326-b8b4-7e7bab55b12e",
   "metadata": {},
   "outputs": [
    {
     "name": "stdout",
     "output_type": "stream",
     "text": [
      "Processando modelo ground_forest.obj. Vertice inicial: 2892\n",
      "Processando modelo ground_forest.obj. Vertice final: 2904\n"
     ]
    }
   ],
   "source": [
    "modelo = load_model_from_file('../assets/ground_forest/ground2.obj')\n",
    "ground2_start = len(vertices_list)\n",
    "### inserindo vertices do modelo no vetor de vertices\n",
    "print('Processando modelo ground_forest.obj. Vertice inicial:',len(vertices_list))\n",
    "for face in modelo['faces']:\n",
    "    for vertice_id in face[0]:\n",
    "        vertices_list.append( modelo['vertices'][vertice_id-1] )\n",
    "    for texture_id in face[1]:\n",
    "        textures_coord_list.append( modelo['texture'][texture_id-1] )\n",
    "print('Processando modelo ground_forest.obj. Vertice final:',len(vertices_list))\n",
    "\n",
    "ground2_size = len(vertices_list) - ground2_start\n",
    "\n",
    "### carregando textura equivalente e definindo um id (buffer): \n",
    "load_texture_from_file(3,'../assets/ground_forest/grass.jpg')"
   ]
  },
  {
   "cell_type": "code",
   "execution_count": 116,
   "id": "f59746b7-9c2f-40d6-a9e5-7f852b192876",
   "metadata": {},
   "outputs": [
    {
     "name": "stdout",
     "output_type": "stream",
     "text": [
      "Processando modelo fence.obj. Vertice inicial: 2904\n",
      "Processando modelo fence.obj. Vertice final: 4488\n"
     ]
    }
   ],
   "source": [
    "# loading fence\n",
    "modelo = load_model_from_file('../assets/fence/fence.obj')\n",
    "fence_start = len(vertices_list)\n",
    "### inserindo vertices do modelo no vetor de vertices\n",
    "print('Processando modelo fence.obj. Vertice inicial:',len(vertices_list))\n",
    "for face in modelo['faces']:\n",
    "    for vertice_id in face[0]:\n",
    "        vertices_list.append( modelo['vertices'][vertice_id-1] )\n",
    "    for texture_id in face[1]:\n",
    "        textures_coord_list.append( modelo['texture'][texture_id-1] )\n",
    "    for normal_id in face[2]:\n",
    "        normals_list.append( modelo['normals'][normal_id-1] )\n",
    "print('Processando modelo fence.obj. Vertice final:',len(vertices_list))\n",
    "\n",
    "fence_size = len(vertices_list) - fence_start\n",
    "\n",
    "### carregando textura equivalente e definindo um id (buffer): \n",
    "load_texture_from_file(4,'../assets/fence/fence.jpg')"
   ]
  },
  {
   "cell_type": "code",
   "execution_count": 117,
   "id": "c9f7a54e-3fce-4529-8cba-1d33cacb541e",
   "metadata": {},
   "outputs": [
    {
     "name": "stdout",
     "output_type": "stream",
     "text": [
      "Processando modelo house.obj. Vertice inicial: 4488\n",
      "Processando modelo house.obj. Vertice final: 17337\n"
     ]
    }
   ],
   "source": [
    "modelo = load_model_from_file('../assets/house/house.obj')\n",
    "house_start = len(vertices_list)\n",
    "### inserindo vertices do modelo no vetor de vertices\n",
    "print('Processando modelo house.obj. Vertice inicial:',len(vertices_list))\n",
    "for face in modelo['faces']:\n",
    "    for vertice_id in face[0]:\n",
    "        vertices_list.append( modelo['vertices'][vertice_id-1] )\n",
    "    for texture_id in face[1]:\n",
    "        textures_coord_list.append( modelo['texture'][texture_id-1] )\n",
    "    for normal_id in face[2]:\n",
    "        normals_list.append( modelo['normals'][normal_id-1] )\n",
    "print('Processando modelo house.obj. Vertice final:',len(vertices_list))\n",
    "\n",
    "house_size = len(vertices_list) - house_start\n",
    "\n",
    "### carregando textura equivalente e definindo um id (buffer): \n",
    "load_texture_from_file(5,'../assets/house/textures/Cottage_Clean_Base_Color.png')"
   ]
  },
  {
   "cell_type": "code",
   "execution_count": 118,
   "id": "715fc520-6ebe-4df1-9090-920fa68cf065",
   "metadata": {},
   "outputs": [
    {
     "name": "stdout",
     "output_type": "stream",
     "text": [
      "Processando modelo table.obj. Vertice inicial: 17337\n",
      "Processando modelo table.obj. Vertice final: 17733\n"
     ]
    }
   ],
   "source": [
    "modelo = load_model_from_file('../assets/table/wood_table.obj')\n",
    "table_start = len(vertices_list)\n",
    "### inserindo vertices do modelo no vetor de vertices\n",
    "print('Processando modelo table.obj. Vertice inicial:',len(vertices_list))\n",
    "for face in modelo['faces']:\n",
    "    for vertice_id in face[0]:\n",
    "        vertices_list.append( modelo['vertices'][vertice_id-1] )\n",
    "    for texture_id in face[1]:\n",
    "        textures_coord_list.append( modelo['texture'][texture_id-1] )\n",
    "    for normal_id in face[2]:\n",
    "        normals_list.append( modelo['normals'][normal_id-1] )\n",
    "print('Processando modelo table.obj. Vertice final:',len(vertices_list))\n",
    "\n",
    "table_size = len(vertices_list) - table_start\n",
    "\n",
    "### carregando textura equivalente e definindo um id (buffer): \n",
    "load_texture_from_file(7,'../assets/table/wood_table.png')"
   ]
  },
  {
   "cell_type": "code",
   "execution_count": 119,
   "id": "50f7e3e9-2289-4960-9bb7-03043e5b4bfa",
   "metadata": {},
   "outputs": [
    {
     "name": "stdout",
     "output_type": "stream",
     "text": [
      "Processando modelo chair.obj. Vertice inicial: 17733\n",
      "Processando modelo chair.obj. Vertice final: 18813\n"
     ]
    }
   ],
   "source": [
    "# loading chair\n",
    "modelo = load_model_from_file('../assets/chair/chair.obj')\n",
    "chair_start = len(vertices_list)\n",
    "### inserindo vertices do modelo no vetor de vertices\n",
    "print('Processando modelo chair.obj. Vertice inicial:',len(vertices_list))\n",
    "for face in modelo['faces']:\n",
    "    for vertice_id in face[0]:\n",
    "        vertices_list.append( modelo['vertices'][vertice_id-1] )\n",
    "    for texture_id in face[1]:\n",
    "        textures_coord_list.append( modelo['texture'][texture_id-1] )\n",
    "    for normal_id in face[2]:\n",
    "        normals_list.append( modelo['normals'][normal_id-1] )\n",
    "print('Processando modelo chair.obj. Vertice final:',len(vertices_list))\n",
    "\n",
    "chair_size = len(vertices_list) - chair_start\n",
    "\n",
    "### carregando textura equivalente e definindo um id (buffer): use um id por textura!\n",
    "load_texture_from_file(8,'../assets/chair/chair.png')"
   ]
  },
  {
   "cell_type": "code",
   "execution_count": 120,
   "id": "ee828bad-c975-4bf6-9af4-edd456f69918",
   "metadata": {},
   "outputs": [
    {
     "name": "stdout",
     "output_type": "stream",
     "text": [
      "Processando modelo box.obj. Vertice inicial: 18813\n",
      "Processando modelo box.obj. Vertice final: 18849\n"
     ]
    }
   ],
   "source": [
    "# loading box\n",
    "modelo = load_model_from_file('../assets/box/box.obj')\n",
    "box_start = len(vertices_list)\n",
    "### inserindo vertices do modelo no vetor de vertices\n",
    "print('Processando modelo box.obj. Vertice inicial:',len(vertices_list))\n",
    "for face in modelo['faces']:\n",
    "    for vertice_id in face[0]:\n",
    "        vertices_list.append( modelo['vertices'][vertice_id-1] )\n",
    "    for texture_id in face[1]:\n",
    "        textures_coord_list.append( modelo['texture'][texture_id-1] )\n",
    "    for normal_id in face[2]:\n",
    "        normals_list.append( modelo['normals'][normal_id-1] )\n",
    "print('Processando modelo box.obj. Vertice final:',len(vertices_list))\n",
    "\n",
    "box_size = len(vertices_list) - box_start\n",
    "\n",
    "### carregando textura equivalente e definindo um id (buffer): use um id por textura!\n",
    "load_texture_from_file(9,'../assets/box/box.jpg')"
   ]
  },
  {
   "cell_type": "code",
   "execution_count": 121,
   "id": "bae334bd-a5f9-42e7-b0c1-4d91bb6faf30",
   "metadata": {},
   "outputs": [
    {
     "name": "stdout",
     "output_type": "stream",
     "text": [
      "Processando modelo raptor.obj. Vertice inicial: 18849\n",
      "Processando modelo raptor.obj. Vertice final: 31302\n"
     ]
    }
   ],
   "source": [
    "# loading raptor\n",
    "modelo = load_model_from_file('../assets/raptor/raptor.obj')\n",
    "raptor_start = len(vertices_list)\n",
    "### inserindo vertices do modelo no vetor de vertices\n",
    "print('Processando modelo raptor.obj. Vertice inicial:',len(vertices_list))\n",
    "for face in modelo['faces']:\n",
    "    for vertice_id in face[0]:\n",
    "        vertices_list.append( modelo['vertices'][vertice_id-1] )\n",
    "    for texture_id in face[1]:\n",
    "        textures_coord_list.append( modelo['texture'][texture_id-1] )\n",
    "    for normal_id in face[2]:\n",
    "        normals_list.append( modelo['normals'][normal_id-1] )\n",
    "print('Processando modelo raptor.obj. Vertice final:',len(vertices_list))\n",
    "\n",
    "raptor_size = len(vertices_list) - raptor_start\n",
    "\n",
    "### carregando textura equivalente e definindo um id (buffer): use um id por textura!\n",
    "load_texture_from_file(10,'../assets/raptor/raptor.jpg')"
   ]
  },
  {
   "cell_type": "code",
   "execution_count": 122,
   "id": "7fc9481e-7e45-4a35-b570-2480cb0f0282",
   "metadata": {},
   "outputs": [
    {
     "name": "stdout",
     "output_type": "stream",
     "text": [
      "Processando modelo slenderman.obj. Vertice inicial: 31302\n",
      "Processando modelo slenderman.obj. Vertice final: 47286\n"
     ]
    }
   ],
   "source": [
    "modelo = load_model_from_file('../assets/slenderman/slenderman.obj')\n",
    "slender_start = len(vertices_list)\n",
    "### inserindo vertices do modelo no vetor de vertices\n",
    "print('Processando modelo slenderman.obj. Vertice inicial:',len(vertices_list))\n",
    "for face in modelo['faces']:\n",
    "    for vertice_id in face[0]:\n",
    "        vertices_list.append( modelo['vertices'][vertice_id-1] )\n",
    "    for texture_id in face[1]:\n",
    "        textures_coord_list.append( modelo['texture'][texture_id-1] )\n",
    "    for normal_id in face[2]:\n",
    "        normals_list.append( modelo['normals'][normal_id-1] )\n",
    "print('Processando modelo slenderman.obj. Vertice final:',len(vertices_list))\n",
    "\n",
    "slender_size = len(vertices_list) - slender_start\n",
    "\n",
    "### carregando textura equivalente e definindo um id (buffer): use um id por textura!\n",
    "load_texture_from_file(11,'../assets/slenderman/slenderman.png')"
   ]
  },
  {
   "cell_type": "code",
   "execution_count": 123,
   "id": "feb74ede-2519-4778-8a0a-749aa1e467bc",
   "metadata": {},
   "outputs": [
    {
     "name": "stdout",
     "output_type": "stream",
     "text": [
      "Processando modelo luz.obj. Vertice inicial: 47286\n",
      "Processando modelo luz.obj. Vertice final: 47322\n"
     ]
    }
   ],
   "source": [
    "modelo = load_model_from_file('../assets/luz/luz.obj')\n",
    "\n",
    "### inserindo vertices do modelo no vetor de vertices\n",
    "print('Processando modelo luz.obj. Vertice inicial:',len(vertices_list))\n",
    "for face in modelo['faces']:\n",
    "    for vertice_id in face[0]:\n",
    "        vertices_list.append( modelo['vertices'][vertice_id-1] )\n",
    "    for texture_id in face[1]:\n",
    "        textures_coord_list.append( modelo['texture'][texture_id-1] )\n",
    "    for normal_id in face[2]:\n",
    "        normals_list.append( modelo['normals'][normal_id-1] )\n",
    "print('Processando modelo luz.obj. Vertice final:',len(vertices_list))\n",
    "\n",
    "\n",
    "### carregando textura equivalente e definindo um id (buffer): use um id por textura!\n",
    "load_texture_from_file(12,'../assets/luz/luz.png')\n"
   ]
  },
  {
   "cell_type": "markdown",
   "id": "63b064a7-d670-4b1c-92de-88c10d5f8c65",
   "metadata": {},
   "source": [
    "### Para enviar nossos dados da CPU para a GPU, precisamos requisitar slots.\n",
    "\n",
    "Nós agora vamos requisitar três slots.\n",
    "* Um para enviar coordenadas dos vértices.\n",
    "* Outros para enviar coordenadas de texturas.\n",
    "* Outro para as coordenadas normais"
   ]
  },
  {
   "cell_type": "code",
   "execution_count": 124,
   "id": "545c3901-395c-40f2-b3f8-cf04838f0317",
   "metadata": {},
   "outputs": [],
   "source": [
    "# Request a buffer slot from GPU\n",
    "buffer = glGenBuffers(3)\n"
   ]
  },
  {
   "cell_type": "markdown",
   "id": "72a7f154-7b78-4876-aa02-73376a27a541",
   "metadata": {},
   "source": [
    "###  Enviando coordenadas de vértices para a GPU"
   ]
  },
  {
   "cell_type": "code",
   "execution_count": 125,
   "id": "6e38d3fc-6629-48cc-af5b-1e91606a9001",
   "metadata": {},
   "outputs": [],
   "source": [
    "vertices = np.zeros(len(vertices_list), [(\"position\", np.float32, 3)])\n",
    "vertices['position'] = vertices_list\n",
    "\n",
    "\n",
    "# Upload data\n",
    "glBindBuffer(GL_ARRAY_BUFFER, buffer[0])\n",
    "glBufferData(GL_ARRAY_BUFFER, vertices.nbytes, vertices, GL_STATIC_DRAW)\n",
    "stride = vertices.strides[0]\n",
    "offset = ctypes.c_void_p(0)\n",
    "loc_vertices = glGetAttribLocation(program, \"position\")\n",
    "glEnableVertexAttribArray(loc_vertices)\n",
    "glVertexAttribPointer(loc_vertices, 3, GL_FLOAT, False, stride, offset)"
   ]
  },
  {
   "cell_type": "markdown",
   "id": "bc0d8279-c344-413e-b373-0bd5e9869df8",
   "metadata": {},
   "source": [
    "###  Enviando coordenadas de textura para a GPU"
   ]
  },
  {
   "cell_type": "code",
   "execution_count": 126,
   "id": "f294da0f-2413-4188-8c9d-b96223d4705b",
   "metadata": {},
   "outputs": [],
   "source": [
    "textures = np.zeros(len(textures_coord_list), [(\"position\", np.float32, 2)]) # duas coordenadas\n",
    "textures['position'] = textures_coord_list\n",
    "\n",
    "\n",
    "# Upload data\n",
    "glBindBuffer(GL_ARRAY_BUFFER, buffer[1])\n",
    "glBufferData(GL_ARRAY_BUFFER, textures.nbytes, textures, GL_STATIC_DRAW)\n",
    "stride = textures.strides[0]\n",
    "offset = ctypes.c_void_p(0)\n",
    "loc_texture_coord = glGetAttribLocation(program, \"texture_coord\")\n",
    "glEnableVertexAttribArray(loc_texture_coord)\n",
    "glVertexAttribPointer(loc_texture_coord, 2, GL_FLOAT, False, stride, offset)"
   ]
  },
  {
   "cell_type": "markdown",
   "id": "faf7ef19-06a6-4322-b9b5-42eac1d1b9ce",
   "metadata": {},
   "source": [
    "###  Enviando coordenadas de normais para a GPU"
   ]
  },
  {
   "cell_type": "code",
   "execution_count": 127,
   "id": "c348dd1d-c243-40c9-941f-f0f103601155",
   "metadata": {},
   "outputs": [],
   "source": [
    "normals = np.zeros(len(normals_list), [(\"position\", np.float32, 3)]) # três coordenadas\n",
    "normals['position'] = normals_list\n",
    "\n",
    "\n",
    "# Upload coordenadas normals de cada vertice\n",
    "glBindBuffer(GL_ARRAY_BUFFER, buffer[2])\n",
    "glBufferData(GL_ARRAY_BUFFER, normals.nbytes, normals, GL_STATIC_DRAW)\n",
    "stride = normals.strides[0]\n",
    "offset = ctypes.c_void_p(0)\n",
    "loc_normals_coord = glGetAttribLocation(program, \"normals\")\n",
    "glEnableVertexAttribArray(loc_normals_coord)\n",
    "glVertexAttribPointer(loc_normals_coord, 3, GL_FLOAT, False, stride, offset)"
   ]
  },
  {
   "cell_type": "markdown",
   "id": "a2b958df-7c50-45a4-a576-1e5a4fc933a9",
   "metadata": {},
   "source": [
    "### Desenhando nossos modelos\n",
    "* Cada modelo tem um Model para posicioná-los no mundo.\n",
    "* É necessário saber qual a posição inicial e total de vértices de cada modelo.\n",
    "* É necessário indicar qual o ID da textura do modelo."
   ]
  },
  {
   "cell_type": "code",
   "execution_count": 128,
   "id": "1561a5bc-eba7-4480-97fa-7b379fe9f563",
   "metadata": {},
   "outputs": [],
   "source": [
    "#### define parametros de ilumincao do modelo\n",
    "ka_inside = 0.5 # coeficiente de reflexao ambiente interna do modelo\n",
    "kd_inside = 0.5 # coeficiente de reflexao difusa interna do modelo\n",
    "ks_inside = 0.5 # coeficiente de reflexao especular interna do modelo\n",
    "ka_outside = 0.5 # coeficiente de reflexao ambiente externa do modelo\n",
    "kd_outside = 0.5 # coeficiente de reflexao difusa externa do modelo\n",
    "ks_outside = 0.5 # coeficiente de reflexao especular externa do modelo\n",
    "ns = 0.9 # expoente de reflexao especular\n",
    "\n",
    "\n",
    "def draw_model(position, rotation, scale, start, model_size, textures, is_inside,  is_light, is_sky = False):\n",
    "    # aplica a matriz model\n",
    "    \n",
    "    # rotacao\n",
    "    angle = rotation[0];\n",
    "    r_x = rotation[1]; r_y = rotation[2]; r_z = rotation[3];\n",
    "    \n",
    "    # translacao\n",
    "    t_x = position[0]; t_y = position[1]; t_z = position[2];\n",
    "    \n",
    "    # escala\n",
    "    s_x = scale[0]; s_y = scale[1]; s_z = scale[2];\n",
    "    \n",
    "    mat_model = model(angle, r_x, r_y, r_z, t_x, t_y, t_z, s_x, s_y, s_z)\n",
    "    loc_model = glGetUniformLocation(program, \"model\")\n",
    "    glUniformMatrix4fv(loc_model, 1, GL_TRUE, mat_model)\n",
    "    \n",
    "    ka = ka_inside\n",
    "    kd = kd_inside\n",
    "    ks = ks_inside\n",
    "\n",
    "    if is_inside == False:\n",
    "        ka = ka_outside\n",
    "        kd = kd_outside\n",
    "        ks = ks_outside\n",
    "\n",
    "    # if is sky texture\n",
    "    if is_sky == True: \n",
    "        kd = 0\n",
    "        ks = 0\n",
    "\n",
    "    loc_inside = glGetUniformLocation(program, \"inside\") # recuperando localizacao da variavel inside na GPU\n",
    "    glUniform1i(loc_inside, is_inside) ### envia inside pra gpu\n",
    "    \n",
    "    loc_ka = glGetUniformLocation(program, \"ka\") # recuperando localizacao da variavel ka na GPU\n",
    "    glUniform1f(loc_ka, ka) ### envia ka pra gpu\n",
    "    \n",
    "    loc_kd = glGetUniformLocation(program, \"kd\") # recuperando localizacao da variavel kd na GPU\n",
    "    glUniform1f(loc_kd, kd) ### envia kd pra gpu    \n",
    "    \n",
    "    loc_ks = glGetUniformLocation(program, \"ks\") # recuperando localizacao da variavel ks na GPU\n",
    "    glUniform1f(loc_ks, ks) ### envia ks pra gpu        \n",
    "    \n",
    "    loc_ns = glGetUniformLocation(program, \"ns\") # recuperando localizacao da variavel ns na GPU\n",
    "    glUniform1f(loc_ns, ns) ### envia ns pra gpu        \n",
    "\n",
    "    if is_light == True:\n",
    "         # recuperando localizacao da variavel lightPos na GPU\n",
    "         loc_light_pos = glGetUniformLocation(program, \"lightPosInside\") \n",
    "         if is_inside == False: \n",
    "             loc_light_pos = glGetUniformLocation(program, \"lightPosOutside\") \n",
    "         # posicao da fonte de luz\n",
    "         glUniform3f(loc_light_pos, t_x, t_y, t_z)\n",
    "    \n",
    "    for texture_id in textures:\n",
    "            \n",
    "        #define id da textura do modelo\n",
    "        glBindTexture(GL_TEXTURE_2D, texture_id)\n",
    "        \n",
    "        # desenha o modelo\n",
    "        glDrawArrays(GL_TRIANGLES, start, model_size) ## renderizando"
   ]
  },
  {
   "cell_type": "markdown",
   "id": "7088cda1-b7f8-4fcd-a057-311fbe3861ba",
   "metadata": {},
   "source": [
    "### Eventos para modificar a posição da câmera.\n",
    "\n",
    "* Usei as teclas A, S, D e W para movimentação no espaço tridimensional.\n",
    "* Usei a posição do mouse para \"direcionar\" a câmera.\n",
    "* Usei as teclas I, K, J e L para movimentação de translação do slender\n",
    "* Usei as teclas das setas de subir e descer para rotacionar o slender\n",
    "* Usei as teclas das setas de direita e esquerda para aumentar e diminuir a escala do slender"
   ]
  },
  {
   "cell_type": "code",
   "execution_count": 129,
   "id": "af50d22e-9e4a-4ee9-ba9f-63ef37871cdd",
   "metadata": {},
   "outputs": [],
   "source": [
    "cameraPos   = glm.vec3(0.0,  0.0,  1.0);\n",
    "cameraFront = glm.vec3(0.0,  0.0, -1.0);\n",
    "cameraUp    = glm.vec3(0.0,  1.0,  0.0);\n",
    "\n",
    "slenderRotation = 90.0 \n",
    "slenderScale = 0.7\n",
    "slenderX = 10.0\n",
    "slenderY = -30.0\n",
    "\n",
    "\n",
    "polygonal_mode = False\n",
    "def key_event(window,key,scancode,action,mods):\n",
    "    global cameraPos, cameraFront, cameraUp, polygonal_mode, ka_inc, slenderRotation, slenderScale, slenderX, slenderY\n",
    "    global ka_inside, kd_inside, ks_inside, ka_outside, kd_outside, ks_outside\n",
    "    \n",
    "    cameraSpeed = 1\n",
    "    newCameraPos = glm.vec3(cameraPos.x, cameraPos.y, cameraPos.z)\n",
    "    if key == 87 and (action==1 or action==2): # tecla W\n",
    "        newCameraPos += cameraSpeed * cameraFront\n",
    "    \n",
    "    if key == 83 and (action==1 or action==2): # tecla S\n",
    "        newCameraPos -= cameraSpeed * cameraFront\n",
    "    \n",
    "    if key == 65 and (action==1 or action==2): # tecla A\n",
    "        newCameraPos -= glm.normalize(glm.cross(cameraFront, cameraUp)) * cameraSpeed\n",
    "        \n",
    "    if key == 68 and (action==1 or action==2): # tecla D\n",
    "        newCameraPos += glm.normalize(glm.cross(cameraFront, cameraUp)) * cameraSpeed\n",
    "\n",
    "    distance = np.linalg.norm(np.array(newCameraPos) - np.array([0.0, 0.0, 0.0]))\n",
    "    if distance < 370:\n",
    "        cameraPos.x = newCameraPos.x\n",
    "        cameraPos.y = newCameraPos.y\n",
    "        cameraPos.z = newCameraPos.z\n",
    "    \n",
    "    if key == 80 and action==1 and polygonal_mode==True: # tecla P\n",
    "        polygonal_mode=False\n",
    "    else:\n",
    "        if key == 80 and action==1 and polygonal_mode==False: # tecla P\n",
    "            polygonal_mode=True\n",
    "    \n",
    "    if key == 265 and (action==1 or action==2): # tecla seta pra cima\n",
    "        slenderRotation += 2\n",
    "        \n",
    "    if key == 264 and (action==1 or action==2): # tecla seta pra baixo\n",
    "        slenderRotation -= 2\n",
    "\n",
    "    if key == 262 and (action==1 or action==2): # tecla seta pra direita\n",
    "        slenderScale += 0.2\n",
    "        \n",
    "    if key == 263 and (action==1 or action==2): # tecla seta pra esquerda\n",
    "        slenderScale -= 0.2\n",
    "\n",
    "    if key == 73 and (action==1 or action==2): # tecla I\n",
    "        slenderX += 0.2\n",
    "    if key == 75 and (action==1 or action==2): # tecla K\n",
    "        slenderX -= 0.2\n",
    "    if key == 74 and (action==1 or action==2): # tecla J\n",
    "        slenderY -= 0.2\n",
    "    if key == 76 and (action==1 or action==2): # tecla L\n",
    "        slenderY += 0.2\n",
    "\n",
    "    # Teclas para aumento e diminuição da iluminação\n",
    "\n",
    "    # Aumento e diminuição da reflexão ambiente interna\n",
    "    if key == 90 and (action == 1 or action == 2): # tecla Z\n",
    "        ka_inside = min(ka_inside + 0.1, 1)\n",
    "    if key == 88 and (action == 1 or action == 2): # tecla X\n",
    "        ka_inside = max(ka_inside - 0.1, 0)\n",
    "\n",
    "    # Aumento e diminuição da reflexão difusa interna\n",
    "    if key == 67 and (action == 1 or action == 2): # tecla C\n",
    "        kd_inside = min(kd_inside + 0.1, 1)\n",
    "    if key == 86 and (action == 1 or action == 2): # tecla V\n",
    "        kd_inside = max(kd_inside - 0.1, 0)\n",
    "\n",
    "    # Aumento e diminuição da reflexão especular interna\n",
    "    if key == 66 and (action == 1 or action == 2): # tecla B\n",
    "        ks_inside = min(ks_inside + 0.1, 1)\n",
    "    if key == 78 and (action == 1 or action == 2): # tecla N\n",
    "        ks_inside = max(ks_inside - 0.1, 0)\n",
    "\n",
    "    \n",
    "\n",
    "    # Aumento e diminuição da reflexão ambiente externa\n",
    "    if key == 69 and (action == 1 or action == 2): # tecla E\n",
    "        ka_outside = min(ka_outside + 0.1, 1)\n",
    "    if key == 82 and (action == 1 or action == 2): # tecla R\n",
    "        ka_outside = max(ka_outside - 0.1, 0)\n",
    "\n",
    "    # Aumento e diminuição da reflexão difusa externa\n",
    "    if key == 84 and (action == 1 or action == 2): # tecla T\n",
    "        kd_outside = min(kd_outside + 0.1, 1)\n",
    "    if key == 89 and (action == 1 or action == 2): # tecla Y\n",
    "        kd_outside = max(kd_outside - 0.1, 0)\n",
    "\n",
    "    # Aumento e diminuição da reflexão especular externa\n",
    "    if key == 85 and (action == 1 or action == 2): # tecla U\n",
    "        ks_outside = min(ks_outside + 0.1, 1)\n",
    "    if key == 79 and (action == 1 or action == 2): # tecla O\n",
    "        ks_outside = max(ks_outside - 0.1, 0)\n",
    "\n",
    "\n",
    "        \n",
    "firstMouse = True\n",
    "yaw = -90.0 \n",
    "pitch = 0.0\n",
    "lastX =  largura/2\n",
    "lastY =  altura/2\n",
    "\n",
    "def mouse_event(window, xpos, ypos):\n",
    "    global firstMouse, cameraFront, yaw, pitch, lastX, lastY\n",
    "    if firstMouse:\n",
    "        lastX = xpos\n",
    "        lastY = ypos\n",
    "        firstMouse = False\n",
    "\n",
    "    xoffset = xpos - lastX\n",
    "    yoffset = lastY - ypos\n",
    "    lastX = xpos\n",
    "    lastY = ypos\n",
    "\n",
    "    sensitivity = 0.3 \n",
    "    xoffset *= sensitivity\n",
    "    yoffset *= sensitivity\n",
    "\n",
    "    yaw += xoffset;\n",
    "    pitch += yoffset;\n",
    "\n",
    "    \n",
    "    if pitch >= 90.0: pitch = 90.0\n",
    "    if pitch <= -90.0: pitch = -90.0\n",
    "\n",
    "    front = glm.vec3()\n",
    "    front.x = math.cos(glm.radians(yaw)) * math.cos(glm.radians(pitch))\n",
    "    front.y = math.sin(glm.radians(pitch))\n",
    "    front.z = math.sin(glm.radians(yaw)) * math.cos(glm.radians(pitch))\n",
    "    cameraFront = glm.normalize(front)\n",
    "\n",
    "\n",
    "    \n",
    "glfw.set_key_callback(window,key_event)\n",
    "glfw.set_cursor_pos_callback(window, mouse_event)"
   ]
  },
  {
   "cell_type": "markdown",
   "id": "82bdfbd0-7825-4e3b-81d1-f7100a7abc5d",
   "metadata": {},
   "source": [
    "### Matrizes Model, View e Projection\n"
   ]
  },
  {
   "cell_type": "code",
   "execution_count": 130,
   "id": "1f395892-0a9b-4839-abe5-3d158eefedde",
   "metadata": {},
   "outputs": [],
   "source": [
    "def model(angle, r_x, r_y, r_z, t_x, t_y, t_z, s_x, s_y, s_z):\n",
    "    \n",
    "    angle = math.radians(angle)\n",
    "    \n",
    "    matrix_transform = glm.mat4(1.0) # instanciando uma matriz identidade\n",
    "\n",
    "    \n",
    "    # aplicando translacao\n",
    "    matrix_transform = glm.translate(matrix_transform, glm.vec3(t_x, t_y, t_z))    \n",
    "    \n",
    "    # aplicando rotacao\n",
    "    matrix_transform = glm.rotate(matrix_transform, angle, glm.vec3(r_x, r_y, r_z))\n",
    "    \n",
    "    # aplicando escala\n",
    "    matrix_transform = glm.scale(matrix_transform, glm.vec3(s_x, s_y, s_z))\n",
    "    \n",
    "    matrix_transform = np.array(matrix_transform)\n",
    "    \n",
    "    return matrix_transform\n",
    "\n",
    "def view():\n",
    "    global cameraPos, cameraFront, cameraUp\n",
    "    cameraPos[1] = 5;\n",
    "    mat_view = glm.lookAt(cameraPos, cameraPos + cameraFront, cameraUp);\n",
    "    mat_view = np.array(mat_view)\n",
    "    return mat_view\n",
    "\n",
    "def projection():\n",
    "    global altura, largura\n",
    "    # perspective parameters: fovy, aspect, near, far\n",
    "    mat_projection = glm.perspective(glm.radians(45.0), largura/altura, 0.1, 1000.0)\n",
    "    mat_projection = np.array(mat_projection)    \n",
    "    return mat_projection"
   ]
  },
  {
   "cell_type": "markdown",
   "id": "e00b36af-30b5-4a6c-9193-cb1006ad73de",
   "metadata": {},
   "source": [
    "### Nesse momento, exibimos a janela."
   ]
  },
  {
   "cell_type": "code",
   "execution_count": 131,
   "id": "f0666ce4-9925-43d5-a873-f92dd1eeee4a",
   "metadata": {},
   "outputs": [],
   "source": [
    "glfw.show_window(window)\n",
    "glfw.set_cursor_pos(window, lastX, lastY)"
   ]
  },
  {
   "cell_type": "markdown",
   "id": "f267f10e-25a8-41e4-9801-39a56c38ace9",
   "metadata": {},
   "source": [
    "### Loop principal da janela.\n",
    "Enquanto a janela não for fechada, esse laço será executado. É neste espaço que trabalhamos com algumas interações com a OpenGL."
   ]
  },
  {
   "cell_type": "code",
   "execution_count": 132,
   "id": "c196ef82-aabb-4212-9090-f4e6e9570ffb",
   "metadata": {},
   "outputs": [],
   "source": [
    "glEnable(GL_DEPTH_TEST) ### importante para 3D\n",
    "   \n",
    "\n",
    "rotacao_inc = 0\n",
    "while not glfw.window_should_close(window):\n",
    "\n",
    "    glfw.poll_events() \n",
    "    \n",
    "    \n",
    "    glClear(GL_COLOR_BUFFER_BIT | GL_DEPTH_BUFFER_BIT)\n",
    "    \n",
    "    glClearColor(1.0, 1.0, 1.0, 1.0)\n",
    "    \n",
    "    if polygonal_mode==True:\n",
    "        glPolygonMode(GL_FRONT_AND_BACK,GL_LINE)\n",
    "    if polygonal_mode==False:\n",
    "        glPolygonMode(GL_FRONT_AND_BACK,GL_FILL)   \n",
    "    \n",
    "\n",
    "    # draw sky  \n",
    "    draw_model([0.0, 0.0, 0.0], [0.0, 0.0, 0.0, 1.0], [0.75, 0.75, 0.75], sky_start, sky_size, [2], False, False, True)\n",
    "    \n",
    "    # draw house\n",
    "    draw_model([-50.0, -3.0, -30.0], [90.0, -90.0, 1.0, 0.0], [5.0, 5.0, 5.0], house_start, house_size, [5], False, False)\n",
    "\n",
    "    # draw table\n",
    "    draw_model([-50.0, -0.5, -30.0], [-90.0, 1.0, 0.0, 0.0], [0.25, 0.25, 0.25], table_start, table_size, [7], True, False)\n",
    "    # draw four chairs around the table\n",
    "    draw_model([-50.0, 2.5, -26.0], [0.0, 0.0, 0.0, 1.0], [0.4, 0.4, 0.4], chair_start, chair_size, [8], True, False)\n",
    "    draw_model([-48.0, 2.5, -30.0], [90.0, 0.0, 1.0, 0.0], [0.4, 0.4, 0.4], chair_start, chair_size, [8], True, False)\n",
    "    draw_model([-50.0, 2.5, -34.0], [180.0, 0.0, 1.0, 0.0], [0.4, 0.4, 0.4], chair_start, chair_size, [8], True, False)\n",
    "    draw_model([-52.0, 2.5, -30.0], [-90.0, 0.0, 1.0, 0.0], [0.4, 0.4, 0.4], chair_start, chair_size, [8], True, False)\n",
    "\n",
    "    # draw box\n",
    "    draw_model([-40.0, 0.0, -30.0], [-90.0, 1.0, 0.0, 0.0], [0.9, 0.9, 0.9], box_start, box_size, [9], True, True)\n",
    "\n",
    "    # draw raptor\n",
    "    draw_model([-10.0, -0.5, -30.0], [90.0, 1.0, 90.0, 0.0], [0.15, 0.15, 0.15], raptor_start, raptor_size, [10], False, False)\n",
    "\n",
    "    # draw slenderman\n",
    "    draw_model([slenderX, -0.5, slenderY], [slenderRotation, 1.0, 90.0, 0.0], [slenderScale, slenderScale, slenderScale], slender_start, slender_size, [11], False, True)\n",
    "\n",
    "    # draw all grounds\n",
    "    draw_model([0.0, -1.0, 0.0], [0.0, 0.0, 0.0, 1.0], [10.0, 10.0, 10.0], ground1_start, ground1_size, [1], False, False)\n",
    "    draw_model([0.0, -1.0, 0.0], [0.0, 0.0, 0.0, 1.0], [10.0, 10.0, 10.0], ground2_start, ground2_size, [3], False, False)\n",
    "\n",
    "    # draw fence dividing spaces\n",
    "    for i in range(-400, -10, 10):\n",
    "        draw_model([0.0, -1.1, i], [90.0, 0.0, 1.0, 0.0], [30.0, 30.0, 30.0], fence_start, fence_size, [4], False, False)\n",
    "    for i in range(0, 400, 10):\n",
    "        draw_model([0.0, -1.1, i], [90.0, 0.0, 1.0, 0.0], [30.0, 30.0, 30.0], fence_start, fence_size, [4], False, False)\n",
    "\n",
    "    mat_view = view()\n",
    "    loc_view = glGetUniformLocation(program, \"view\")\n",
    "    glUniformMatrix4fv(loc_view, 1, GL_TRUE, mat_view)\n",
    "\n",
    "    mat_projection = projection()\n",
    "    loc_projection = glGetUniformLocation(program, \"projection\")\n",
    "    glUniformMatrix4fv(loc_projection, 1, GL_TRUE, mat_projection)    \n",
    "\n",
    "    # atualizando a posicao da camera/observador na GPU para calculo da reflexao especular\n",
    "    loc_view_pos = glGetUniformLocation(program, \"viewPos\") # recuperando localizacao da variavel viewPos na GPU\n",
    "    glUniform3f(loc_view_pos, cameraPos[0], cameraPos[1], cameraPos[2]) ### posicao da camera/observador (x,y,z)\n",
    "    \n",
    "    glfw.swap_buffers(window)\n",
    "\n",
    "glfw.terminate()"
   ]
  }
 ],
 "metadata": {
  "kernelspec": {
   "display_name": "Python 3 (ipykernel)",
   "language": "python",
   "name": "python3"
  },
  "language_info": {
   "codemirror_mode": {
    "name": "ipython",
    "version": 3
   },
   "file_extension": ".py",
   "mimetype": "text/x-python",
   "name": "python",
   "nbconvert_exporter": "python",
   "pygments_lexer": "ipython3",
   "version": "3.10.0"
  }
 },
 "nbformat": 4,
 "nbformat_minor": 5
}
